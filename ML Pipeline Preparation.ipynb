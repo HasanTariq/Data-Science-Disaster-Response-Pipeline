{
 "cells": [
  {
   "cell_type": "markdown",
   "metadata": {},
   "source": [
    "# ML Pipeline Preparation\n",
    "Follow the instructions below to help you create your ML pipeline.\n",
    "### 1. Import libraries and load data from database.\n",
    "- Import Python libraries\n",
    "- Load dataset from database with [`read_sql_table`](https://pandas.pydata.org/pandas-docs/stable/generated/pandas.read_sql_table.html)\n",
    "- Define feature and target variables X and Y"
   ]
  },
  {
   "cell_type": "code",
   "execution_count": 1,
   "metadata": {},
   "outputs": [
    {
     "name": "stdout",
     "output_type": "stream",
     "text": [
      "[nltk_data] Downloading package punkt to /root/nltk_data...\n",
      "[nltk_data]   Unzipping tokenizers/punkt.zip.\n",
      "[nltk_data] Downloading package wordnet to /root/nltk_data...\n",
      "[nltk_data]   Unzipping corpora/wordnet.zip.\n",
      "[nltk_data] Downloading package averaged_perceptron_tagger to\n",
      "[nltk_data]     /root/nltk_data...\n",
      "[nltk_data]   Unzipping taggers/averaged_perceptron_tagger.zip.\n",
      "[nltk_data] Downloading package stopwords to /root/nltk_data...\n",
      "[nltk_data]   Unzipping corpora/stopwords.zip.\n"
     ]
    }
   ],
   "source": [
    "# import libraries\n",
    "import re\n",
    "import numpy as np\n",
    "import pandas as pd\n",
    "from sqlalchemy import create_engine\n",
    "from nltk.corpus import stopwords\n",
    "from nltk.tokenize import word_tokenize\n",
    "from nltk.stem.porter import PorterStemmer\n",
    "\n",
    "\n",
    "import nltk\n",
    "nltk.download(['punkt', 'wordnet', 'averaged_perceptron_tagger','stopwords'])\n",
    "from nltk.tokenize import word_tokenize\n",
    "from nltk.stem import WordNetLemmatizer\n",
    "\n",
    "from sklearn.metrics import accuracy_score, precision_score, recall_score, f1_score, make_scorer,classification_report\n",
    "from sklearn.multioutput import MultiOutputClassifier\n",
    "from sklearn.ensemble import RandomForestClassifier\n",
    "from sklearn.model_selection import train_test_split, GridSearchCV\n",
    "from sklearn.pipeline import Pipeline, FeatureUnion\n",
    "from sklearn.base import BaseEstimator, TransformerMixin\n",
    "from sklearn.feature_extraction.text import CountVectorizer, TfidfTransformer\n",
    "from sklearn.base import BaseEstimator, TransformerMixin\n",
    "from sklearn.svm import LinearSVC\n"
   ]
  },
  {
   "cell_type": "code",
   "execution_count": 2,
   "metadata": {},
   "outputs": [],
   "source": [
    "# load data from database\n",
    "engine = create_engine('sqlite:///disaster_database.db')\n",
    "\n",
    "#Read data from the table we created earlier and we call it 'disaster_response'\n",
    "df = pd.read_sql_table('disaster_response', engine)\n",
    "\n",
    "# the X is the feature we are going to use to train and test our ML model\n",
    "X = df.filter(items=['id', 'message', 'original', 'genre'])\n",
    "\n",
    "# the y contain result of the calssification we used to to classify each message \n",
    "y = df.drop(['id', 'message', 'original', 'genre', 'child_alone', 'related'], axis=1)\n",
    "\n",
    "#'child_alone' has no responses thats why we dropped it\n",
    "#'related' columns has been dropped since it contains non binary numbers 2\n",
    "\n",
    "url_regex = 'http[s]?://(?:[a-zA-Z]|[0-9]|[$-_@.&+]|[!*\\(\\),]|(?:%[0-9a-fA-F][0-9a-fA-F]))+'"
   ]
  },
  {
   "cell_type": "markdown",
   "metadata": {},
   "source": [
    "### 2. Write a tokenization function to process your text data"
   ]
  },
  {
   "cell_type": "code",
   "execution_count": 3,
   "metadata": {},
   "outputs": [],
   "source": [
    "# This is tokenize function we are goining to use to tokenize word\n",
    "def tokenize(text):\n",
    "    tokens = nltk.word_tokenize(text)\n",
    "    lemmatizer = nltk.WordNetLemmatizer()\n",
    "    return [lemmatizer.lemmatize(w).lower().strip() for w in tokens]\n"
   ]
  },
  {
   "cell_type": "markdown",
   "metadata": {},
   "source": [
    "### 3. Build a machine learning pipeline\n",
    "This machine pipeline should take in the `message` column as input and output classification results on the other 36 categories in the dataset. You may find the [MultiOutputClassifier](http://scikit-learn.org/stable/modules/generated/sklearn.multioutput.MultiOutputClassifier.html) helpful for predicting multiple target variables."
   ]
  },
  {
   "cell_type": "code",
   "execution_count": 4,
   "metadata": {},
   "outputs": [],
   "source": [
    "# Create a pipeline instance which contian the process of fitting and transformnig our data \n",
    "pipeline = Pipeline([('cvect', CountVectorizer(tokenizer = tokenize)),\n",
    "                     ('tfidf', TfidfTransformer()),\n",
    "                    ('clf', MultiOutputClassifier(LinearSVC(multi_class=\"crammer_singer\"), n_jobs=1))\n",
    "                    ])"
   ]
  },
  {
   "cell_type": "markdown",
   "metadata": {},
   "source": [
    "### 4. Train pipeline\n",
    "- Split data into train and test sets\n",
    "- Train pipeline"
   ]
  },
  {
   "cell_type": "code",
   "execution_count": 5,
   "metadata": {},
   "outputs": [],
   "source": [
    "# use the train_split to split our data to training and testing \n",
    "X_train, X_test, y_train, y_test = train_test_split(X, y)"
   ]
  },
  {
   "cell_type": "code",
   "execution_count": 6,
   "metadata": {},
   "outputs": [
    {
     "data": {
      "text/plain": [
       "Pipeline(memory=None,\n",
       "     steps=[('cvect', CountVectorizer(analyzer='word', binary=False, decode_error='strict',\n",
       "        dtype=<class 'numpy.int64'>, encoding='utf-8', input='content',\n",
       "        lowercase=True, max_df=1.0, max_features=None, min_df=1,\n",
       "        ngram_range=(1, 1), preprocessor=None, stop_words=None,\n",
       "        stri...rammer_singer', penalty='l2', random_state=None,\n",
       "     tol=0.0001, verbose=0),\n",
       "           n_jobs=1))])"
      ]
     },
     "execution_count": 6,
     "metadata": {},
     "output_type": "execute_result"
    }
   ],
   "source": [
    "pipeline.fit(X_train['message'], y_train)"
   ]
  },
  {
   "cell_type": "markdown",
   "metadata": {},
   "source": [
    "### 5. Test your model\n",
    "Report the f1 score, precision and recall for each output category of the dataset. You can do this by iterating through the columns and calling sklearn's `classification_report` on each."
   ]
  },
  {
   "cell_type": "code",
   "execution_count": 7,
   "metadata": {},
   "outputs": [
    {
     "name": "stdout",
     "output_type": "stream",
     "text": [
      "                        precision    recall  f1-score   support\n",
      "\n",
      "               request       0.77      0.63      0.69      1108\n",
      "                 offer       0.00      0.00      0.00        23\n",
      "           aid_related       0.71      0.71      0.71      2686\n",
      "          medical_help       0.61      0.29      0.40       548\n",
      "      medical_products       0.71      0.35      0.47       317\n",
      "     search_and_rescue       0.67      0.20      0.31       177\n",
      "              security       0.67      0.02      0.03       129\n",
      "              military       0.58      0.30      0.39       203\n",
      "                 water       0.76      0.67      0.71       419\n",
      "                  food       0.81      0.74      0.77       725\n",
      "               shelter       0.75      0.61      0.68       558\n",
      "              clothing       0.79      0.56      0.65        97\n",
      "                 money       0.56      0.25      0.35       157\n",
      "        missing_people       0.60      0.18      0.28        84\n",
      "              refugees       0.64      0.27      0.38       202\n",
      "                 death       0.69      0.52      0.59       286\n",
      "             other_aid       0.45      0.18      0.26       854\n",
      "infrastructure_related       0.40      0.04      0.08       452\n",
      "             transport       0.74      0.25      0.37       309\n",
      "             buildings       0.59      0.34      0.43       321\n",
      "           electricity       0.69      0.34      0.45       124\n",
      "                 tools       0.00      0.00      0.00        43\n",
      "             hospitals       0.71      0.06      0.12        77\n",
      "                 shops       0.00      0.00      0.00        36\n",
      "           aid_centers       0.00      0.00      0.00        66\n",
      "  other_infrastructure       0.43      0.03      0.06       299\n",
      "       weather_related       0.81      0.74      0.77      1779\n",
      "                floods       0.86      0.55      0.67       549\n",
      "                 storm       0.75      0.65      0.70       606\n",
      "                  fire       0.61      0.23      0.33        62\n",
      "            earthquake       0.85      0.80      0.82       587\n",
      "                  cold       0.69      0.42      0.53       120\n",
      "         other_weather       0.53      0.15      0.24       340\n",
      "         direct_report       0.69      0.54      0.60      1270\n",
      "\n",
      "           avg / total       0.69      0.52      0.57     15613\n",
      "\n"
     ]
    },
    {
     "name": "stderr",
     "output_type": "stream",
     "text": [
      "/opt/conda/lib/python3.6/site-packages/sklearn/metrics/classification.py:1135: UndefinedMetricWarning: Precision and F-score are ill-defined and being set to 0.0 in labels with no predicted samples.\n",
      "  'precision', 'predicted', average, warn_for)\n"
     ]
    }
   ],
   "source": [
    "# Print out Precision , recall F1_score and support for each column using classification_report function\n",
    "y_pred_test = pipeline.predict(X_test['message'])\n",
    "print(classification_report(y_test.values, y_pred_test, target_names=y.columns.values))\n"
   ]
  },
  {
   "cell_type": "markdown",
   "metadata": {},
   "source": [
    "### 6. Improve your model\n",
    "Use grid search to find better parameters. "
   ]
  },
  {
   "cell_type": "code",
   "execution_count": 8,
   "metadata": {},
   "outputs": [],
   "source": [
    "# introduce the parameters to enhance our model \n",
    "parameters = {\n",
    "        'clf__estimator__C': [1, 1.2, 1.4],\n",
    "        'clf__estimator__max_iter': [1000, 1200, 1500],\n",
    "    } \n"
   ]
  },
  {
   "cell_type": "code",
   "execution_count": 9,
   "metadata": {},
   "outputs": [
    {
     "data": {
      "text/plain": [
       "GridSearchCV(cv=None, error_score='raise',\n",
       "       estimator=Pipeline(memory=None,\n",
       "     steps=[('cvect', CountVectorizer(analyzer='word', binary=False, decode_error='strict',\n",
       "        dtype=<class 'numpy.int64'>, encoding='utf-8', input='content',\n",
       "        lowercase=True, max_df=1.0, max_features=None, min_df=1,\n",
       "        ngram_range=(1, 1), preprocessor=None, stop_words=None,\n",
       "        stri...rammer_singer', penalty='l2', random_state=None,\n",
       "     tol=0.0001, verbose=0),\n",
       "           n_jobs=1))]),\n",
       "       fit_params=None, iid=True, n_jobs=1,\n",
       "       param_grid={'clf__estimator__C': [1, 1.2, 1.4], 'clf__estimator__max_iter': [1000, 1200, 1500]},\n",
       "       pre_dispatch='2*n_jobs', refit=True, return_train_score='warn',\n",
       "       scoring=None, verbose=0)"
      ]
     },
     "execution_count": 9,
     "metadata": {},
     "output_type": "execute_result"
    }
   ],
   "source": [
    "cv = GridSearchCV(pipeline, param_grid=parameters)\n",
    "cv.fit(X_train['message'], y_train)\n"
   ]
  },
  {
   "cell_type": "code",
   "execution_count": 15,
   "metadata": {},
   "outputs": [
    {
     "data": {
      "text/plain": [
       "{'clf__estimator__C': 1, 'clf__estimator__max_iter': 1000}"
      ]
     },
     "execution_count": 15,
     "metadata": {},
     "output_type": "execute_result"
    }
   ],
   "source": [
    "cv.best_params_"
   ]
  },
  {
   "cell_type": "markdown",
   "metadata": {},
   "source": [
    "### 7. Test your model\n",
    "Show the accuracy, precision, and recall of the tuned model.  \n",
    "\n",
    "Since this project focuses on code quality, process, and  pipelines, there is no minimum performance metric needed to pass. However, make sure to fine tune your models for accuracy, precision and recall to make your project stand out - especially for your portfolio!"
   ]
  },
  {
   "cell_type": "code",
   "execution_count": 10,
   "metadata": {},
   "outputs": [
    {
     "name": "stdout",
     "output_type": "stream",
     "text": [
      "                        precision    recall  f1-score   support\n",
      "\n",
      "               request       0.77      0.63      0.69      1108\n",
      "                 offer       0.00      0.00      0.00        23\n",
      "           aid_related       0.71      0.71      0.71      2686\n",
      "          medical_help       0.61      0.29      0.40       548\n",
      "      medical_products       0.71      0.35      0.47       317\n",
      "     search_and_rescue       0.67      0.20      0.31       177\n",
      "              security       0.67      0.02      0.03       129\n",
      "              military       0.58      0.30      0.39       203\n",
      "                 water       0.76      0.67      0.71       419\n",
      "                  food       0.81      0.74      0.77       725\n",
      "               shelter       0.75      0.61      0.68       558\n",
      "              clothing       0.79      0.56      0.65        97\n",
      "                 money       0.56      0.25      0.35       157\n",
      "        missing_people       0.60      0.18      0.28        84\n",
      "              refugees       0.64      0.27      0.38       202\n",
      "                 death       0.69      0.52      0.59       286\n",
      "             other_aid       0.45      0.18      0.26       854\n",
      "infrastructure_related       0.40      0.04      0.08       452\n",
      "             transport       0.74      0.25      0.37       309\n",
      "             buildings       0.59      0.34      0.43       321\n",
      "           electricity       0.69      0.34      0.45       124\n",
      "                 tools       0.00      0.00      0.00        43\n",
      "             hospitals       0.71      0.06      0.12        77\n",
      "                 shops       0.00      0.00      0.00        36\n",
      "           aid_centers       0.00      0.00      0.00        66\n",
      "  other_infrastructure       0.43      0.03      0.06       299\n",
      "       weather_related       0.81      0.74      0.77      1779\n",
      "                floods       0.86      0.55      0.67       549\n",
      "                 storm       0.75      0.65      0.70       606\n",
      "                  fire       0.61      0.23      0.33        62\n",
      "            earthquake       0.85      0.80      0.82       587\n",
      "                  cold       0.69      0.42      0.53       120\n",
      "         other_weather       0.53      0.15      0.24       340\n",
      "         direct_report       0.69      0.54      0.60      1270\n",
      "\n",
      "           avg / total       0.69      0.52      0.57     15613\n",
      "\n"
     ]
    },
    {
     "name": "stderr",
     "output_type": "stream",
     "text": [
      "/opt/conda/lib/python3.6/site-packages/sklearn/metrics/classification.py:1135: UndefinedMetricWarning: Precision and F-score are ill-defined and being set to 0.0 in labels with no predicted samples.\n",
      "  'precision', 'predicted', average, warn_for)\n"
     ]
    }
   ],
   "source": [
    "y_pred_test = pipeline.predict(X_test['message'])\n",
    "print(classification_report(y_test.values, y_pred_test, target_names=y.columns.values))\n"
   ]
  },
  {
   "cell_type": "markdown",
   "metadata": {},
   "source": [
    "### 8. Try improving your model further. Here are a few ideas:\n",
    "* try other machine learning algorithms\n",
    "* add other features besides the TF-IDF"
   ]
  },
  {
   "cell_type": "code",
   "execution_count": 11,
   "metadata": {},
   "outputs": [],
   "source": [
    "randomForest_pipeline = Pipeline([('cvect', CountVectorizer(tokenizer = tokenize)),\n",
    "                     ('tfidf', TfidfTransformer()),\n",
    "                    ('clf', MultiOutputClassifier(RandomForestClassifier()))\n",
    "                    ])\n"
   ]
  },
  {
   "cell_type": "code",
   "execution_count": 12,
   "metadata": {},
   "outputs": [
    {
     "data": {
      "text/plain": [
       "Pipeline(memory=None,\n",
       "     steps=[('cvect', CountVectorizer(analyzer='word', binary=False, decode_error='strict',\n",
       "        dtype=<class 'numpy.int64'>, encoding='utf-8', input='content',\n",
       "        lowercase=True, max_df=1.0, max_features=None, min_df=1,\n",
       "        ngram_range=(1, 1), preprocessor=None, stop_words=None,\n",
       "        stri...oob_score=False, random_state=None, verbose=0,\n",
       "            warm_start=False),\n",
       "           n_jobs=1))])"
      ]
     },
     "execution_count": 12,
     "metadata": {},
     "output_type": "execute_result"
    }
   ],
   "source": [
    "randomForest_pipeline.fit(X_train['message'], y_train)"
   ]
  },
  {
   "cell_type": "code",
   "execution_count": 13,
   "metadata": {},
   "outputs": [
    {
     "name": "stdout",
     "output_type": "stream",
     "text": [
      "                        precision    recall  f1-score   support\n",
      "\n",
      "               request       0.82      0.39      0.53      1108\n",
      "                 offer       0.00      0.00      0.00        23\n",
      "           aid_related       0.74      0.52      0.61      2686\n",
      "          medical_help       0.53      0.05      0.10       548\n",
      "      medical_products       0.67      0.09      0.16       317\n",
      "     search_and_rescue       0.64      0.05      0.09       177\n",
      "              security       0.00      0.00      0.00       129\n",
      "              military       0.62      0.09      0.16       203\n",
      "                 water       0.86      0.24      0.37       419\n",
      "                  food       0.85      0.36      0.50       725\n",
      "               shelter       0.85      0.29      0.43       558\n",
      "              clothing       0.73      0.08      0.15        97\n",
      "                 money       0.71      0.03      0.06       157\n",
      "        missing_people       0.00      0.00      0.00        84\n",
      "              refugees       0.71      0.06      0.11       202\n",
      "                 death       0.74      0.10      0.18       286\n",
      "             other_aid       0.56      0.03      0.06       854\n",
      "infrastructure_related       0.20      0.00      0.00       452\n",
      "             transport       0.84      0.05      0.10       309\n",
      "             buildings       0.80      0.07      0.14       321\n",
      "           electricity       1.00      0.06      0.12       124\n",
      "                 tools       0.00      0.00      0.00        43\n",
      "             hospitals       0.00      0.00      0.00        77\n",
      "                 shops       0.00      0.00      0.00        36\n",
      "           aid_centers       0.00      0.00      0.00        66\n",
      "  other_infrastructure       0.00      0.00      0.00       299\n",
      "       weather_related       0.82      0.50      0.62      1779\n",
      "                floods       0.88      0.18      0.30       549\n",
      "                 storm       0.80      0.35      0.48       606\n",
      "                  fire       0.00      0.00      0.00        62\n",
      "            earthquake       0.82      0.43      0.56       587\n",
      "                  cold       0.36      0.04      0.07       120\n",
      "         other_weather       0.70      0.02      0.04       340\n",
      "         direct_report       0.75      0.31      0.44      1270\n",
      "\n",
      "           avg / total       0.70      0.28      0.37     15613\n",
      "\n"
     ]
    },
    {
     "name": "stderr",
     "output_type": "stream",
     "text": [
      "/opt/conda/lib/python3.6/site-packages/sklearn/metrics/classification.py:1135: UndefinedMetricWarning: Precision and F-score are ill-defined and being set to 0.0 in labels with no predicted samples.\n",
      "  'precision', 'predicted', average, warn_for)\n"
     ]
    }
   ],
   "source": [
    "y_pred_test = randomForest_pipeline.predict(X_test['message'])\n",
    "print(classification_report(y_test.values, y_pred_test, target_names=y.columns.values))\n"
   ]
  },
  {
   "cell_type": "markdown",
   "metadata": {},
   "source": [
    "### 9. Export your model as a pickle file"
   ]
  },
  {
   "cell_type": "code",
   "execution_count": 14,
   "metadata": {},
   "outputs": [],
   "source": [
    "import pickle\n",
    "filename = 'disaster_model.pkl'\n",
    "pickle.dump(pipeline, open(filename, 'wb'))"
   ]
  },
  {
   "cell_type": "markdown",
   "metadata": {},
   "source": [
    "### 10. Use this notebook to complete `train.py`\n",
    "Use the template file attached in the Resources folder to write a script that runs the steps above to create a database and export a model based on a new dataset specified by the user."
   ]
  },
  {
   "cell_type": "code",
   "execution_count": null,
   "metadata": {},
   "outputs": [],
   "source": []
  }
 ],
 "metadata": {
  "kernelspec": {
   "display_name": "Python 3",
   "language": "python",
   "name": "python3"
  },
  "language_info": {
   "codemirror_mode": {
    "name": "ipython",
    "version": 3
   },
   "file_extension": ".py",
   "mimetype": "text/x-python",
   "name": "python",
   "nbconvert_exporter": "python",
   "pygments_lexer": "ipython3",
   "version": "3.6.3"
  }
 },
 "nbformat": 4,
 "nbformat_minor": 2
}
